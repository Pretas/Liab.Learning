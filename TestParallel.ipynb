{
 "metadata": {
  "language_info": {
   "codemirror_mode": {
    "name": "ipython",
    "version": 3
   },
   "file_extension": ".py",
   "mimetype": "text/x-python",
   "name": "python",
   "nbconvert_exporter": "python",
   "pygments_lexer": "ipython3",
   "version": "3.6.8-final"
  },
  "orig_nbformat": 2,
  "kernelspec": {
   "name": "python3",
   "display_name": "Python 3",
   "language": "python"
  }
 },
 "nbformat": 4,
 "nbformat_minor": 2,
 "cells": [
  {
   "cell_type": "code",
   "execution_count": 1,
   "metadata": {},
   "outputs": [
    {
     "output_type": "execute_result",
     "data": {
      "text/plain": [
       "8"
      ]
     },
     "metadata": {},
     "execution_count": 1
    }
   ],
   "source": [
    "import multiprocessing # 병렬 처리를 위한 모듈\n",
    "\n",
    "multiprocessing.cpu_count() # 8개 코어\n"
   ]
  },
  {
   "cell_type": "code",
   "execution_count": 6,
   "metadata": {},
   "outputs": [
    {
     "output_type": "stream",
     "name": "stdout",
     "text": [
      "최적 점수 : 0.9800000000000001\n최적 파라미터: {'C': 2.5, 'penalty': 'l2'}\nLogisticRegression(C=2.5)\n"
     ]
    },
    {
     "output_type": "execute_result",
     "data": {
      "text/plain": [
       "   mean_fit_time  std_fit_time  mean_score_time  std_score_time param_C  \\\n",
       "0       0.000698      0.000638         0.000000        0.000000     0.5   \n",
       "1       0.089710      0.030574         0.000828        0.000438     0.5   \n",
       "2       0.000540      0.000364         0.000000        0.000000     1.5   \n",
       "3       0.069396      0.016608         0.000461        0.000474     1.5   \n",
       "4       0.000221      0.000444         0.000000        0.000000     2.5   \n",
       "5       0.058500      0.003252         0.000691        0.000464     2.5   \n",
       "6       0.000291      0.000423         0.000000        0.000000       3   \n",
       "7       0.074330      0.029199         0.000878        0.001321       3   \n",
       "8       0.000392      0.000481         0.000000        0.000000     3.5   \n",
       "9       0.062453      0.012100         0.002785        0.006462     3.5   \n",
       "\n",
       "  param_penalty                       params  split0_test_score  \\\n",
       "0            l1  {'C': 0.5, 'penalty': 'l1'}                NaN   \n",
       "1            l2  {'C': 0.5, 'penalty': 'l2'}                1.0   \n",
       "2            l1  {'C': 1.5, 'penalty': 'l1'}                NaN   \n",
       "3            l2  {'C': 1.5, 'penalty': 'l2'}                1.0   \n",
       "4            l1  {'C': 2.5, 'penalty': 'l1'}                NaN   \n",
       "5            l2  {'C': 2.5, 'penalty': 'l2'}                1.0   \n",
       "6            l1  {'C': 3.0, 'penalty': 'l1'}                NaN   \n",
       "7            l2  {'C': 3.0, 'penalty': 'l2'}                1.0   \n",
       "8            l1  {'C': 3.5, 'penalty': 'l1'}                NaN   \n",
       "9            l2  {'C': 3.5, 'penalty': 'l2'}                1.0   \n",
       "\n",
       "   split1_test_score  split2_test_score  split3_test_score  split4_test_score  \\\n",
       "0                NaN                NaN                NaN                NaN   \n",
       "1           0.933333                1.0           0.933333           0.933333   \n",
       "2                NaN                NaN                NaN                NaN   \n",
       "3           0.933333                1.0           1.000000           0.933333   \n",
       "4                NaN                NaN                NaN                NaN   \n",
       "5           0.933333                1.0           1.000000           0.933333   \n",
       "6                NaN                NaN                NaN                NaN   \n",
       "7           0.933333                1.0           1.000000           0.933333   \n",
       "8                NaN                NaN                NaN                NaN   \n",
       "9           0.933333                1.0           1.000000           0.933333   \n",
       "\n",
       "   split5_test_score  split6_test_score  split7_test_score  split8_test_score  \\\n",
       "0                NaN                NaN                NaN                NaN   \n",
       "1           0.933333           0.933333                1.0                1.0   \n",
       "2                NaN                NaN                NaN                NaN   \n",
       "3           0.933333           0.933333                1.0                1.0   \n",
       "4                NaN                NaN                NaN                NaN   \n",
       "5           1.000000           0.933333                1.0                1.0   \n",
       "6                NaN                NaN                NaN                NaN   \n",
       "7           1.000000           0.933333                1.0                1.0   \n",
       "8                NaN                NaN                NaN                NaN   \n",
       "9           1.000000           0.933333                1.0                1.0   \n",
       "\n",
       "   split9_test_score  mean_test_score  std_test_score  rank_test_score  \n",
       "0                NaN              NaN             NaN                6  \n",
       "1                1.0         0.966667        0.033333                5  \n",
       "2                NaN              NaN             NaN                7  \n",
       "3                1.0         0.973333        0.032660                4  \n",
       "4                NaN              NaN             NaN                8  \n",
       "5                1.0         0.980000        0.030551                1  \n",
       "6                NaN              NaN             NaN                9  \n",
       "7                1.0         0.980000        0.030551                1  \n",
       "8                NaN              NaN             NaN               10  \n",
       "9                1.0         0.980000        0.030551                1  "
      ],
      "text/html": "<div>\n<style scoped>\n    .dataframe tbody tr th:only-of-type {\n        vertical-align: middle;\n    }\n\n    .dataframe tbody tr th {\n        vertical-align: top;\n    }\n\n    .dataframe thead th {\n        text-align: right;\n    }\n</style>\n<table border=\"1\" class=\"dataframe\">\n  <thead>\n    <tr style=\"text-align: right;\">\n      <th></th>\n      <th>mean_fit_time</th>\n      <th>std_fit_time</th>\n      <th>mean_score_time</th>\n      <th>std_score_time</th>\n      <th>param_C</th>\n      <th>param_penalty</th>\n      <th>params</th>\n      <th>split0_test_score</th>\n      <th>split1_test_score</th>\n      <th>split2_test_score</th>\n      <th>split3_test_score</th>\n      <th>split4_test_score</th>\n      <th>split5_test_score</th>\n      <th>split6_test_score</th>\n      <th>split7_test_score</th>\n      <th>split8_test_score</th>\n      <th>split9_test_score</th>\n      <th>mean_test_score</th>\n      <th>std_test_score</th>\n      <th>rank_test_score</th>\n    </tr>\n  </thead>\n  <tbody>\n    <tr>\n      <th>0</th>\n      <td>0.000698</td>\n      <td>0.000638</td>\n      <td>0.000000</td>\n      <td>0.000000</td>\n      <td>0.5</td>\n      <td>l1</td>\n      <td>{'C': 0.5, 'penalty': 'l1'}</td>\n      <td>NaN</td>\n      <td>NaN</td>\n      <td>NaN</td>\n      <td>NaN</td>\n      <td>NaN</td>\n      <td>NaN</td>\n      <td>NaN</td>\n      <td>NaN</td>\n      <td>NaN</td>\n      <td>NaN</td>\n      <td>NaN</td>\n      <td>NaN</td>\n      <td>6</td>\n    </tr>\n    <tr>\n      <th>1</th>\n      <td>0.089710</td>\n      <td>0.030574</td>\n      <td>0.000828</td>\n      <td>0.000438</td>\n      <td>0.5</td>\n      <td>l2</td>\n      <td>{'C': 0.5, 'penalty': 'l2'}</td>\n      <td>1.0</td>\n      <td>0.933333</td>\n      <td>1.0</td>\n      <td>0.933333</td>\n      <td>0.933333</td>\n      <td>0.933333</td>\n      <td>0.933333</td>\n      <td>1.0</td>\n      <td>1.0</td>\n      <td>1.0</td>\n      <td>0.966667</td>\n      <td>0.033333</td>\n      <td>5</td>\n    </tr>\n    <tr>\n      <th>2</th>\n      <td>0.000540</td>\n      <td>0.000364</td>\n      <td>0.000000</td>\n      <td>0.000000</td>\n      <td>1.5</td>\n      <td>l1</td>\n      <td>{'C': 1.5, 'penalty': 'l1'}</td>\n      <td>NaN</td>\n      <td>NaN</td>\n      <td>NaN</td>\n      <td>NaN</td>\n      <td>NaN</td>\n      <td>NaN</td>\n      <td>NaN</td>\n      <td>NaN</td>\n      <td>NaN</td>\n      <td>NaN</td>\n      <td>NaN</td>\n      <td>NaN</td>\n      <td>7</td>\n    </tr>\n    <tr>\n      <th>3</th>\n      <td>0.069396</td>\n      <td>0.016608</td>\n      <td>0.000461</td>\n      <td>0.000474</td>\n      <td>1.5</td>\n      <td>l2</td>\n      <td>{'C': 1.5, 'penalty': 'l2'}</td>\n      <td>1.0</td>\n      <td>0.933333</td>\n      <td>1.0</td>\n      <td>1.000000</td>\n      <td>0.933333</td>\n      <td>0.933333</td>\n      <td>0.933333</td>\n      <td>1.0</td>\n      <td>1.0</td>\n      <td>1.0</td>\n      <td>0.973333</td>\n      <td>0.032660</td>\n      <td>4</td>\n    </tr>\n    <tr>\n      <th>4</th>\n      <td>0.000221</td>\n      <td>0.000444</td>\n      <td>0.000000</td>\n      <td>0.000000</td>\n      <td>2.5</td>\n      <td>l1</td>\n      <td>{'C': 2.5, 'penalty': 'l1'}</td>\n      <td>NaN</td>\n      <td>NaN</td>\n      <td>NaN</td>\n      <td>NaN</td>\n      <td>NaN</td>\n      <td>NaN</td>\n      <td>NaN</td>\n      <td>NaN</td>\n      <td>NaN</td>\n      <td>NaN</td>\n      <td>NaN</td>\n      <td>NaN</td>\n      <td>8</td>\n    </tr>\n    <tr>\n      <th>5</th>\n      <td>0.058500</td>\n      <td>0.003252</td>\n      <td>0.000691</td>\n      <td>0.000464</td>\n      <td>2.5</td>\n      <td>l2</td>\n      <td>{'C': 2.5, 'penalty': 'l2'}</td>\n      <td>1.0</td>\n      <td>0.933333</td>\n      <td>1.0</td>\n      <td>1.000000</td>\n      <td>0.933333</td>\n      <td>1.000000</td>\n      <td>0.933333</td>\n      <td>1.0</td>\n      <td>1.0</td>\n      <td>1.0</td>\n      <td>0.980000</td>\n      <td>0.030551</td>\n      <td>1</td>\n    </tr>\n    <tr>\n      <th>6</th>\n      <td>0.000291</td>\n      <td>0.000423</td>\n      <td>0.000000</td>\n      <td>0.000000</td>\n      <td>3</td>\n      <td>l1</td>\n      <td>{'C': 3.0, 'penalty': 'l1'}</td>\n      <td>NaN</td>\n      <td>NaN</td>\n      <td>NaN</td>\n      <td>NaN</td>\n      <td>NaN</td>\n      <td>NaN</td>\n      <td>NaN</td>\n      <td>NaN</td>\n      <td>NaN</td>\n      <td>NaN</td>\n      <td>NaN</td>\n      <td>NaN</td>\n      <td>9</td>\n    </tr>\n    <tr>\n      <th>7</th>\n      <td>0.074330</td>\n      <td>0.029199</td>\n      <td>0.000878</td>\n      <td>0.001321</td>\n      <td>3</td>\n      <td>l2</td>\n      <td>{'C': 3.0, 'penalty': 'l2'}</td>\n      <td>1.0</td>\n      <td>0.933333</td>\n      <td>1.0</td>\n      <td>1.000000</td>\n      <td>0.933333</td>\n      <td>1.000000</td>\n      <td>0.933333</td>\n      <td>1.0</td>\n      <td>1.0</td>\n      <td>1.0</td>\n      <td>0.980000</td>\n      <td>0.030551</td>\n      <td>1</td>\n    </tr>\n    <tr>\n      <th>8</th>\n      <td>0.000392</td>\n      <td>0.000481</td>\n      <td>0.000000</td>\n      <td>0.000000</td>\n      <td>3.5</td>\n      <td>l1</td>\n      <td>{'C': 3.5, 'penalty': 'l1'}</td>\n      <td>NaN</td>\n      <td>NaN</td>\n      <td>NaN</td>\n      <td>NaN</td>\n      <td>NaN</td>\n      <td>NaN</td>\n      <td>NaN</td>\n      <td>NaN</td>\n      <td>NaN</td>\n      <td>NaN</td>\n      <td>NaN</td>\n      <td>NaN</td>\n      <td>10</td>\n    </tr>\n    <tr>\n      <th>9</th>\n      <td>0.062453</td>\n      <td>0.012100</td>\n      <td>0.002785</td>\n      <td>0.006462</td>\n      <td>3.5</td>\n      <td>l2</td>\n      <td>{'C': 3.5, 'penalty': 'l2'}</td>\n      <td>1.0</td>\n      <td>0.933333</td>\n      <td>1.0</td>\n      <td>1.000000</td>\n      <td>0.933333</td>\n      <td>1.000000</td>\n      <td>0.933333</td>\n      <td>1.0</td>\n      <td>1.0</td>\n      <td>1.0</td>\n      <td>0.980000</td>\n      <td>0.030551</td>\n      <td>1</td>\n    </tr>\n  </tbody>\n</table>\n</div>"
     },
     "metadata": {},
     "execution_count": 6
    }
   ],
   "source": [
    "from sklearn.datasets import load_iris\n",
    "from sklearn.linear_model import LogisticRegression\n",
    "from sklearn.model_selection import GridSearchCV\n",
    "import pandas as pd\n",
    "\n",
    "iris = load_iris()\n",
    "\n",
    "param_grid = [{'penalty':['l1','l2'],\n",
    "               'C':[0.5,1.5,2.5,3.0, 3.5]\n",
    "               }] # 결과값을 보고 파라미터 변경\n",
    "\n",
    "gs = GridSearchCV(estimator=LogisticRegression(), param_grid=param_grid,\n",
    "                  scoring='accuracy',cv=10, n_jobs=multiprocessing.cpu_count())\n",
    "\n",
    "result =gs.fit(iris.data, iris.target)\n",
    "\n",
    "print(\"최적 점수 : {}\".format(result.best_score_))\n",
    "print(\"최적 파라미터: {}\".format(result.best_params_))\n",
    "print(gs.best_estimator_)\n",
    "pd.DataFrame(result.cv_results_)\n"
   ]
  }
 ]
}