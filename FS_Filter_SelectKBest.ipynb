{
 "metadata": {
  "language_info": {
   "codemirror_mode": {
    "name": "ipython",
    "version": 3
   },
   "file_extension": ".py",
   "mimetype": "text/x-python",
   "name": "python",
   "nbconvert_exporter": "python",
   "pygments_lexer": "ipython3",
   "version": "3.6.8-final"
  },
  "orig_nbformat": 2,
  "kernelspec": {
   "name": "python3",
   "display_name": "Python 3",
   "language": "python"
  }
 },
 "nbformat": 4,
 "nbformat_minor": 2,
 "cells": [
  {
   "cell_type": "code",
   "execution_count": 3,
   "metadata": {},
   "outputs": [],
   "source": [
    "# !pip install pymysql\n",
    "# !pip install pymssql\n",
    "\n",
    "import LibData\n",
    "import LibUtils\n",
    "import LibML\n",
    "import LibFile\n",
    "\n",
    "import pandas as pd\n",
    "import numpy as np\n",
    "\n",
    "xBase = pd.read_csv('x.csv')\n",
    "yBase = pd.read_csv('y.csv')\n"
   ]
  },
  {
   "cell_type": "code",
   "execution_count": 25,
   "metadata": {},
   "outputs": [],
   "source": [
    "\n",
    "\n",
    "# 포함된, 포함되지 않은\n",
    "def PrintSelectedAndNot(x, selected):\n",
    "    mask = x.columns.isin(selected)\n",
    "    notSelected = x.columns[np.invert(mask)]\n",
    "    print(selected)\n",
    "    print(notSelected)\n"
   ]
  },
  {
   "cell_type": "code",
   "execution_count": 19,
   "metadata": {},
   "outputs": [
    {
     "output_type": "stream",
     "name": "stdout",
     "text": [
      "Index(['Prem', 'PremYr', 'AccumPrem', 'ContAmt', 'FundVal02', 'FundVal03',\n       'FundAllo02', 'FundAllo03', 'IR06', 'IR09', 'IR12', 'IR14', 'Moneyness',\n       'AttainedAge', 'ee_ProdCode_00', 'ee_ProdCode_01', 'ee_ProdCode_02',\n       'ee_Inter_EM_AA_00', 'ee_Inter_EM_AA_01', 'ee_Inter_EM_AA_02'],\n      dtype='object')\nIndex(['ElapsedMth', 'Sex', 'StartAge', 'FundVal01', 'FundAllo01'], dtype='object')\n"
     ]
    }
   ],
   "source": [
    "# filter - f-test\n",
    "\n",
    "from sklearn.feature_selection import f_regression, mutual_info_regression, SelectKBest\n",
    "\n",
    "cols = xBase.columns\n",
    "\n",
    "# 수행 \n",
    "selector = SelectKBest(score_func=f_regression, k=20)\n",
    "xSelected = selector.fit_transform(xBase, yBase['pv_claim'])\n",
    "\n",
    "selected_cols = xBase.columns[selector.get_support()]\n",
    "PrintSelectedAndNot(xBase, selected_cols)\n"
   ]
  },
  {
   "cell_type": "code",
   "execution_count": 21,
   "metadata": {},
   "outputs": [],
   "source": [
    "# filter - mutual information\n",
    "from sklearn.feature_selection import mutual_info_regression\n",
    "\n",
    "scores = mutual_info_regression(xBase, yBase['pv_claim'])\n",
    "\n"
   ]
  },
  {
   "cell_type": "code",
   "execution_count": 32,
   "metadata": {},
   "outputs": [
    {
     "output_type": "execute_result",
     "data": {
      "text/plain": [
       "              colName     score  rank\n",
       "0           AccumPrem  0.264156     1\n",
       "1                IR12  0.216594     2\n",
       "2                IR14  0.192187     3\n",
       "3           Moneyness  0.190856     4\n",
       "4                IR09  0.189724     5\n",
       "5                IR06  0.189217     6\n",
       "6      ee_ProdCode_01  0.177254     7\n",
       "7      ee_ProdCode_00  0.177105     8\n",
       "8      ee_ProdCode_02  0.176590     9\n",
       "9   ee_Inter_EM_AA_00  0.175537    10\n",
       "10  ee_Inter_EM_AA_02  0.174533    11\n",
       "11  ee_Inter_EM_AA_01  0.173562    12\n",
       "12               Prem  0.172736    13\n",
       "13          FundVal01  0.121075    14\n",
       "14        AttainedAge  0.110525    15\n",
       "15            ContAmt  0.104336    16\n",
       "16           StartAge  0.103455    17\n",
       "17         ElapsedMth  0.102892    18\n",
       "18          FundVal02  0.096767    19\n",
       "19          FundVal03  0.087623    20"
      ],
      "text/html": "<div>\n<style scoped>\n    .dataframe tbody tr th:only-of-type {\n        vertical-align: middle;\n    }\n\n    .dataframe tbody tr th {\n        vertical-align: top;\n    }\n\n    .dataframe thead th {\n        text-align: right;\n    }\n</style>\n<table border=\"1\" class=\"dataframe\">\n  <thead>\n    <tr style=\"text-align: right;\">\n      <th></th>\n      <th>colName</th>\n      <th>score</th>\n      <th>rank</th>\n    </tr>\n  </thead>\n  <tbody>\n    <tr>\n      <th>0</th>\n      <td>AccumPrem</td>\n      <td>0.264156</td>\n      <td>1</td>\n    </tr>\n    <tr>\n      <th>1</th>\n      <td>IR12</td>\n      <td>0.216594</td>\n      <td>2</td>\n    </tr>\n    <tr>\n      <th>2</th>\n      <td>IR14</td>\n      <td>0.192187</td>\n      <td>3</td>\n    </tr>\n    <tr>\n      <th>3</th>\n      <td>Moneyness</td>\n      <td>0.190856</td>\n      <td>4</td>\n    </tr>\n    <tr>\n      <th>4</th>\n      <td>IR09</td>\n      <td>0.189724</td>\n      <td>5</td>\n    </tr>\n    <tr>\n      <th>5</th>\n      <td>IR06</td>\n      <td>0.189217</td>\n      <td>6</td>\n    </tr>\n    <tr>\n      <th>6</th>\n      <td>ee_ProdCode_01</td>\n      <td>0.177254</td>\n      <td>7</td>\n    </tr>\n    <tr>\n      <th>7</th>\n      <td>ee_ProdCode_00</td>\n      <td>0.177105</td>\n      <td>8</td>\n    </tr>\n    <tr>\n      <th>8</th>\n      <td>ee_ProdCode_02</td>\n      <td>0.176590</td>\n      <td>9</td>\n    </tr>\n    <tr>\n      <th>9</th>\n      <td>ee_Inter_EM_AA_00</td>\n      <td>0.175537</td>\n      <td>10</td>\n    </tr>\n    <tr>\n      <th>10</th>\n      <td>ee_Inter_EM_AA_02</td>\n      <td>0.174533</td>\n      <td>11</td>\n    </tr>\n    <tr>\n      <th>11</th>\n      <td>ee_Inter_EM_AA_01</td>\n      <td>0.173562</td>\n      <td>12</td>\n    </tr>\n    <tr>\n      <th>12</th>\n      <td>Prem</td>\n      <td>0.172736</td>\n      <td>13</td>\n    </tr>\n    <tr>\n      <th>13</th>\n      <td>FundVal01</td>\n      <td>0.121075</td>\n      <td>14</td>\n    </tr>\n    <tr>\n      <th>14</th>\n      <td>AttainedAge</td>\n      <td>0.110525</td>\n      <td>15</td>\n    </tr>\n    <tr>\n      <th>15</th>\n      <td>ContAmt</td>\n      <td>0.104336</td>\n      <td>16</td>\n    </tr>\n    <tr>\n      <th>16</th>\n      <td>StartAge</td>\n      <td>0.103455</td>\n      <td>17</td>\n    </tr>\n    <tr>\n      <th>17</th>\n      <td>ElapsedMth</td>\n      <td>0.102892</td>\n      <td>18</td>\n    </tr>\n    <tr>\n      <th>18</th>\n      <td>FundVal02</td>\n      <td>0.096767</td>\n      <td>19</td>\n    </tr>\n    <tr>\n      <th>19</th>\n      <td>FundVal03</td>\n      <td>0.087623</td>\n      <td>20</td>\n    </tr>\n  </tbody>\n</table>\n</div>"
     },
     "metadata": {},
     "execution_count": 32
    }
   ],
   "source": [
    "top"
   ]
  },
  {
   "cell_type": "code",
   "execution_count": 37,
   "metadata": {},
   "outputs": [
    {
     "output_type": "stream",
     "name": "stdout",
     "text": [
      "['AccumPrem' 'IR12' 'IR14' 'Moneyness' 'IR09' 'IR06' 'ee_ProdCode_01'\n 'ee_ProdCode_00' 'ee_ProdCode_02' 'ee_Inter_EM_AA_00' 'ee_Inter_EM_AA_02'\n 'ee_Inter_EM_AA_01' 'Prem' 'FundVal01' 'AttainedAge' 'ContAmt' 'StartAge'\n 'ElapsedMth' 'FundVal02' 'FundVal03']\nIndex(['Sex', 'PremYr', 'FundAllo01', 'FundAllo02', 'FundAllo03'], dtype='object')\n"
     ]
    }
   ],
   "source": [
    "# 출력\n",
    "selected = pd.DataFrame({'colName' : xBase.columns, 'score': scores})\n",
    "\n",
    "ordered = selected.sort_values(by=['score'], ascending=False).reset_index(drop=True)\n",
    "ordered['rank'] = ordered.index+1\n",
    "\n",
    "top = ordered[ordered['rank'] <= 20]\n",
    "\n",
    "PrintSelectedAndNot(xBase, top.colName.to_numpy())"
   ]
  },
  {
   "cell_type": "code",
   "execution_count": 24,
   "metadata": {},
   "outputs": [
    {
     "output_type": "execute_result",
     "data": {
      "text/plain": [
       "              colName     score  rank\n",
       "4           AccumPrem  0.228573     1\n",
       "15               IR12  0.189273     2\n",
       "16               IR14  0.180704     3\n",
       "14               IR09  0.166796     4\n",
       "13               IR06  0.165874     5\n",
       "19     ee_ProdCode_00  0.159109     6\n",
       "21     ee_ProdCode_02  0.156919     7\n",
       "20     ee_ProdCode_01  0.155857     8\n",
       "17          Moneyness  0.147882     9\n",
       "2                Prem  0.142471    10\n",
       "22  ee_Inter_EM_AA_00  0.136993    11\n",
       "24  ee_Inter_EM_AA_02  0.127196    12\n",
       "23  ee_Inter_EM_AA_01  0.126016    13\n",
       "5             ContAmt  0.094946    14\n",
       "6            StartAge  0.084452    15\n",
       "7           FundVal01  0.081651    16\n",
       "0          ElapsedMth  0.068034    17\n",
       "18        AttainedAge  0.064085    18\n",
       "8           FundVal02  0.060229    19\n",
       "3              PremYr  0.046859    20\n",
       "9           FundVal03  0.045670    21\n",
       "11         FundAllo02  0.033523    22\n",
       "12         FundAllo03  0.031888    23\n",
       "10         FundAllo01  0.015262    24\n",
       "1                 Sex  0.011979    25"
      ],
      "text/html": "<div>\n<style scoped>\n    .dataframe tbody tr th:only-of-type {\n        vertical-align: middle;\n    }\n\n    .dataframe tbody tr th {\n        vertical-align: top;\n    }\n\n    .dataframe thead th {\n        text-align: right;\n    }\n</style>\n<table border=\"1\" class=\"dataframe\">\n  <thead>\n    <tr style=\"text-align: right;\">\n      <th></th>\n      <th>colName</th>\n      <th>score</th>\n      <th>rank</th>\n    </tr>\n  </thead>\n  <tbody>\n    <tr>\n      <th>4</th>\n      <td>AccumPrem</td>\n      <td>0.228573</td>\n      <td>1</td>\n    </tr>\n    <tr>\n      <th>15</th>\n      <td>IR12</td>\n      <td>0.189273</td>\n      <td>2</td>\n    </tr>\n    <tr>\n      <th>16</th>\n      <td>IR14</td>\n      <td>0.180704</td>\n      <td>3</td>\n    </tr>\n    <tr>\n      <th>14</th>\n      <td>IR09</td>\n      <td>0.166796</td>\n      <td>4</td>\n    </tr>\n    <tr>\n      <th>13</th>\n      <td>IR06</td>\n      <td>0.165874</td>\n      <td>5</td>\n    </tr>\n    <tr>\n      <th>19</th>\n      <td>ee_ProdCode_00</td>\n      <td>0.159109</td>\n      <td>6</td>\n    </tr>\n    <tr>\n      <th>21</th>\n      <td>ee_ProdCode_02</td>\n      <td>0.156919</td>\n      <td>7</td>\n    </tr>\n    <tr>\n      <th>20</th>\n      <td>ee_ProdCode_01</td>\n      <td>0.155857</td>\n      <td>8</td>\n    </tr>\n    <tr>\n      <th>17</th>\n      <td>Moneyness</td>\n      <td>0.147882</td>\n      <td>9</td>\n    </tr>\n    <tr>\n      <th>2</th>\n      <td>Prem</td>\n      <td>0.142471</td>\n      <td>10</td>\n    </tr>\n    <tr>\n      <th>22</th>\n      <td>ee_Inter_EM_AA_00</td>\n      <td>0.136993</td>\n      <td>11</td>\n    </tr>\n    <tr>\n      <th>24</th>\n      <td>ee_Inter_EM_AA_02</td>\n      <td>0.127196</td>\n      <td>12</td>\n    </tr>\n    <tr>\n      <th>23</th>\n      <td>ee_Inter_EM_AA_01</td>\n      <td>0.126016</td>\n      <td>13</td>\n    </tr>\n    <tr>\n      <th>5</th>\n      <td>ContAmt</td>\n      <td>0.094946</td>\n      <td>14</td>\n    </tr>\n    <tr>\n      <th>6</th>\n      <td>StartAge</td>\n      <td>0.084452</td>\n      <td>15</td>\n    </tr>\n    <tr>\n      <th>7</th>\n      <td>FundVal01</td>\n      <td>0.081651</td>\n      <td>16</td>\n    </tr>\n    <tr>\n      <th>0</th>\n      <td>ElapsedMth</td>\n      <td>0.068034</td>\n      <td>17</td>\n    </tr>\n    <tr>\n      <th>18</th>\n      <td>AttainedAge</td>\n      <td>0.064085</td>\n      <td>18</td>\n    </tr>\n    <tr>\n      <th>8</th>\n      <td>FundVal02</td>\n      <td>0.060229</td>\n      <td>19</td>\n    </tr>\n    <tr>\n      <th>3</th>\n      <td>PremYr</td>\n      <td>0.046859</td>\n      <td>20</td>\n    </tr>\n    <tr>\n      <th>9</th>\n      <td>FundVal03</td>\n      <td>0.045670</td>\n      <td>21</td>\n    </tr>\n    <tr>\n      <th>11</th>\n      <td>FundAllo02</td>\n      <td>0.033523</td>\n      <td>22</td>\n    </tr>\n    <tr>\n      <th>12</th>\n      <td>FundAllo03</td>\n      <td>0.031888</td>\n      <td>23</td>\n    </tr>\n    <tr>\n      <th>10</th>\n      <td>FundAllo01</td>\n      <td>0.015262</td>\n      <td>24</td>\n    </tr>\n    <tr>\n      <th>1</th>\n      <td>Sex</td>\n      <td>0.011979</td>\n      <td>25</td>\n    </tr>\n  </tbody>\n</table>\n</div>"
     },
     "metadata": {},
     "execution_count": 24
    }
   ],
   "source": [
    "selected"
   ]
  },
  {
   "cell_type": "code",
   "execution_count": 14,
   "metadata": {},
   "outputs": [
    {
     "output_type": "execute_result",
     "data": {
      "text/plain": [
       "              colName     score  rank\n",
       "5           AccumPrem  0.215027     1\n",
       "16               IR12  0.177529     2\n",
       "17               IR14  0.173046     3\n",
       "15               IR09  0.158985     4\n",
       "14               IR06  0.156500     5\n",
       "21     ee_ProdCode_01  0.150779     6\n",
       "22     ee_ProdCode_02  0.148458     7\n",
       "20     ee_ProdCode_00  0.145321     8\n",
       "18          Moneyness  0.145062     9\n",
       "3                Prem  0.131131    10\n",
       "23  ee_Inter_EM_AA_00  0.119586    11\n",
       "25  ee_Inter_EM_AA_02  0.113480    12\n",
       "24  ee_Inter_EM_AA_01  0.112772    13\n",
       "8           FundVal01  0.093164    14\n",
       "6             ContAmt  0.083052    15\n",
       "7            StartAge  0.051685    16\n",
       "1          ElapsedMth  0.049790    17\n",
       "9           FundVal02  0.047928    18\n",
       "4              PremYr  0.042860    19\n",
       "19        AttainedAge  0.041795    20\n",
       "10          FundVal03  0.040518    21\n",
       "12         FundAllo02  0.033289    22\n",
       "13         FundAllo03  0.024153    23\n",
       "2                 Sex  0.009547    24\n",
       "11         FundAllo01  0.000000    25\n",
       "0          Unnamed: 0  0.000000    26"
      ],
      "text/html": "<div>\n<style scoped>\n    .dataframe tbody tr th:only-of-type {\n        vertical-align: middle;\n    }\n\n    .dataframe tbody tr th {\n        vertical-align: top;\n    }\n\n    .dataframe thead th {\n        text-align: right;\n    }\n</style>\n<table border=\"1\" class=\"dataframe\">\n  <thead>\n    <tr style=\"text-align: right;\">\n      <th></th>\n      <th>colName</th>\n      <th>score</th>\n      <th>rank</th>\n    </tr>\n  </thead>\n  <tbody>\n    <tr>\n      <th>5</th>\n      <td>AccumPrem</td>\n      <td>0.215027</td>\n      <td>1</td>\n    </tr>\n    <tr>\n      <th>16</th>\n      <td>IR12</td>\n      <td>0.177529</td>\n      <td>2</td>\n    </tr>\n    <tr>\n      <th>17</th>\n      <td>IR14</td>\n      <td>0.173046</td>\n      <td>3</td>\n    </tr>\n    <tr>\n      <th>15</th>\n      <td>IR09</td>\n      <td>0.158985</td>\n      <td>4</td>\n    </tr>\n    <tr>\n      <th>14</th>\n      <td>IR06</td>\n      <td>0.156500</td>\n      <td>5</td>\n    </tr>\n    <tr>\n      <th>21</th>\n      <td>ee_ProdCode_01</td>\n      <td>0.150779</td>\n      <td>6</td>\n    </tr>\n    <tr>\n      <th>22</th>\n      <td>ee_ProdCode_02</td>\n      <td>0.148458</td>\n      <td>7</td>\n    </tr>\n    <tr>\n      <th>20</th>\n      <td>ee_ProdCode_00</td>\n      <td>0.145321</td>\n      <td>8</td>\n    </tr>\n    <tr>\n      <th>18</th>\n      <td>Moneyness</td>\n      <td>0.145062</td>\n      <td>9</td>\n    </tr>\n    <tr>\n      <th>3</th>\n      <td>Prem</td>\n      <td>0.131131</td>\n      <td>10</td>\n    </tr>\n    <tr>\n      <th>23</th>\n      <td>ee_Inter_EM_AA_00</td>\n      <td>0.119586</td>\n      <td>11</td>\n    </tr>\n    <tr>\n      <th>25</th>\n      <td>ee_Inter_EM_AA_02</td>\n      <td>0.113480</td>\n      <td>12</td>\n    </tr>\n    <tr>\n      <th>24</th>\n      <td>ee_Inter_EM_AA_01</td>\n      <td>0.112772</td>\n      <td>13</td>\n    </tr>\n    <tr>\n      <th>8</th>\n      <td>FundVal01</td>\n      <td>0.093164</td>\n      <td>14</td>\n    </tr>\n    <tr>\n      <th>6</th>\n      <td>ContAmt</td>\n      <td>0.083052</td>\n      <td>15</td>\n    </tr>\n    <tr>\n      <th>7</th>\n      <td>StartAge</td>\n      <td>0.051685</td>\n      <td>16</td>\n    </tr>\n    <tr>\n      <th>1</th>\n      <td>ElapsedMth</td>\n      <td>0.049790</td>\n      <td>17</td>\n    </tr>\n    <tr>\n      <th>9</th>\n      <td>FundVal02</td>\n      <td>0.047928</td>\n      <td>18</td>\n    </tr>\n    <tr>\n      <th>4</th>\n      <td>PremYr</td>\n      <td>0.042860</td>\n      <td>19</td>\n    </tr>\n    <tr>\n      <th>19</th>\n      <td>AttainedAge</td>\n      <td>0.041795</td>\n      <td>20</td>\n    </tr>\n    <tr>\n      <th>10</th>\n      <td>FundVal03</td>\n      <td>0.040518</td>\n      <td>21</td>\n    </tr>\n    <tr>\n      <th>12</th>\n      <td>FundAllo02</td>\n      <td>0.033289</td>\n      <td>22</td>\n    </tr>\n    <tr>\n      <th>13</th>\n      <td>FundAllo03</td>\n      <td>0.024153</td>\n      <td>23</td>\n    </tr>\n    <tr>\n      <th>2</th>\n      <td>Sex</td>\n      <td>0.009547</td>\n      <td>24</td>\n    </tr>\n    <tr>\n      <th>11</th>\n      <td>FundAllo01</td>\n      <td>0.000000</td>\n      <td>25</td>\n    </tr>\n    <tr>\n      <th>0</th>\n      <td>Unnamed: 0</td>\n      <td>0.000000</td>\n      <td>26</td>\n    </tr>\n  </tbody>\n</table>\n</div>"
     },
     "metadata": {},
     "execution_count": 14
    }
   ],
   "source": [
    "\n"
   ]
  }
 ]
}