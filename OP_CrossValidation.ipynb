{
 "metadata": {
  "language_info": {
   "codemirror_mode": {
    "name": "ipython",
    "version": 3
   },
   "file_extension": ".py",
   "mimetype": "text/x-python",
   "name": "python",
   "nbconvert_exporter": "python",
   "pygments_lexer": "ipython3",
   "version": "3.6.8-final"
  },
  "orig_nbformat": 2,
  "kernelspec": {
   "name": "python3",
   "display_name": "Python 3",
   "language": "python"
  }
 },
 "nbformat": 4,
 "nbformat_minor": 2,
 "cells": [
  {
   "cell_type": "code",
   "execution_count": 1,
   "metadata": {},
   "outputs": [
    {
     "output_type": "stream",
     "name": "stdout",
     "text": [
      "Index(['ElapsedMth', 'ContAge', 'Sex', 'Prem', 'PremYr', 'AccumPrem',\n       'ContAmt', 'StartAge', 'SumFund', 'FundVal01', 'FundVal02', 'FundVal03',\n       'FundAllo01', 'FundAllo02', 'FundAllo03', 'IR01', 'IR02', 'IR03',\n       'IR04', 'IR05', 'IR06', 'IR07', 'IR08', 'IR09', 'IR10', 'IR11', 'IR12',\n       'IR13', 'IR14', 'prd_0', 'prd_1', 'prd_2', 'prd_3', 'prd_4', 'prd_5',\n       'prd_6', 'prd_7', 'prd_8', 'prd_9', 'prd_10', 'prd_11', 'prd_12',\n       'prd_13', 'prd_14', 'prd_15'],\n      dtype='object') Index(['pv_fee', 'pv_claim'], dtype='object')\n80000 80000\n"
     ]
    }
   ],
   "source": [
    "#!pip install pymysql\n",
    "#!pip install pymssql\n",
    "\n",
    "import pandas as pd\n",
    "import LibData\n",
    "\n",
    "# jobName = '201216_Train_pilot'\n",
    "jobName = '201216_Train_split1'\n",
    "xTrain, xVal, yTrain, yVal = LibData.GetXY4(jobName, 0.2)\n",
    "\n",
    "x = pd.concat([xTrain, xVal])\n",
    "y = pd.concat([yTrain, yVal])\n",
    "\n"
   ]
  },
  {
   "cell_type": "code",
   "execution_count": null,
   "metadata": {},
   "outputs": [],
   "source": [
    "from sklearn.model_selection import cross_val_score\n",
    "from sklearn.svm import SVR\n",
    "from sklearn import metrics\n",
    "\n",
    "model = SVR(kernel='rbf', C=10, gamma=0.1, epsilon=.1)\n",
    "\n",
    "scores = cross_val_score(model, x, y['pv_claim'], cv=5, scoring = 'neg_mean_squared_error')"
   ]
  }
 ]
}