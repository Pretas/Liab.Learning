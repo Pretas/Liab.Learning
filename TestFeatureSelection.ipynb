{
 "metadata": {
  "language_info": {
   "codemirror_mode": {
    "name": "ipython",
    "version": 3
   },
   "file_extension": ".py",
   "mimetype": "text/x-python",
   "name": "python",
   "nbconvert_exporter": "python",
   "pygments_lexer": "ipython3",
   "version": "3.6.8-final"
  },
  "orig_nbformat": 2,
  "kernelspec": {
   "name": "python3",
   "display_name": "Python 3",
   "language": "python"
  }
 },
 "nbformat": 4,
 "nbformat_minor": 2,
 "cells": [
  {
   "cell_type": "code",
   "execution_count": 1,
   "metadata": {},
   "outputs": [
    {
     "output_type": "stream",
     "name": "stdout",
     "text": [
      "Index(['ElapsedMth', 'ContAge', 'Sex', 'Prem', 'PremYr', 'AccumPrem',\n       'ContAmt', 'StartAgeOfSomething', 'SumFund', 'FundVal01', 'FundVal02',\n       'FundVal03', 'FundAllo01', 'FundAllo02', 'FundAllo03', 'IR01', 'IR02',\n       'IR03', 'IR04', 'IR05', 'IR06', 'IR07', 'IR08', 'IR09', 'IR10', 'IR11',\n       'IR12', 'IR13', 'IR14', 'prd_0', 'prd_1', 'prd_2', 'prd_3', 'prd_4',\n       'prd_5', 'prd_6', 'prd_7', 'prd_8', 'prd_9', 'prd_10', 'prd_11',\n       'prd_12', 'prd_13', 'prd_14', 'prd_15'],\n      dtype='object') Index(['pv_fee', 'pv_claim'], dtype='object')\n"
     ]
    }
   ],
   "source": [
    "import pandas as pd\n",
    "import DataLoad\n",
    "import LibUtils\n",
    "\n",
    "jobName = 'T201204_TrainingSet_to30'\n",
    "x, y = DataLoad.GetXY3(jobName)\n",
    "\n",
    "# 범주형 변수 원핫인코딩\n",
    "x = pd.get_dummies(x, columns=['ProdCode'], prefix='prd')\n",
    "\n",
    "print(x.columns, y.columns)"
   ]
  },
  {
   "cell_type": "code",
   "execution_count": 3,
   "metadata": {},
   "outputs": [],
   "source": [
    "from sklearn.model_selection import train_test_split\n",
    "\n",
    "xVal, xTrain, yVal, yTrain = train_test_split(x, y, test_size=0.8)\n",
    "\n",
    "xTrain_re = xTrain[['ElapsedMth', 'ContAge', 'Prem', 'AccumPrem', 'ContAmt', 'StartAgeOfSomething', 'SumFund', 'FundVal03', 'IR13', 'IR14']]\n",
    "xVal_re = xVal[['ElapsedMth', 'ContAge', 'Prem', 'AccumPrem', 'ContAmt', 'StartAgeOfSomething', 'SumFund', 'FundVal03', 'IR13', 'IR14']]\n"
   ]
  },
  {
   "cell_type": "code",
   "execution_count": 4,
   "metadata": {},
   "outputs": [],
   "source": [
    "yName = 'pv_claim'\n",
    "model_1, y_pred_1 = LibUtils.RFFit(xTrain, yTrain[yName], xVal, yVal[yName])\n",
    "model_2, y_pred_2 = LibUtils.RFFit(xTrain_re, yTrain[yName], xVal_re, yVal[yName])"
   ]
  },
  {
   "cell_type": "code",
   "execution_count": 6,
   "metadata": {},
   "outputs": [
    {
     "output_type": "stream",
     "name": "stdout",
     "text": [
      "[42.63949568329476, 0.14508072601401026, 0.9628430720219241]\n[87.22576329121488, 0.2967853362856149, 0.8835904370224439]\n"
     ]
    }
   ],
   "source": [
    "# 스코어\n",
    "scores_1 = LibUtils.GetScores(yVal[yName], y_pred_1[0])\n",
    "scores_2 = LibUtils.GetScores(yVal[yName], y_pred_2[0])\n",
    "\n",
    "print(scores_1)\n",
    "print(scores_2)\n",
    "\n",
    "# 차원을 축소하니 성과가 더 안좋음 ... ... ...\n",
    "# 추가. 다른모델을 이용할 때\n",
    "# 추가. 새로운 변수 머니니스 추가..."
   ]
  }
 ]
}